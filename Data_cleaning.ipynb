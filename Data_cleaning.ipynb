{
 "cells": [
  {
   "cell_type": "code",
   "execution_count": 5,
   "id": "e95190df-eb49-4c64-bab3-113705ed7d7d",
   "metadata": {},
   "outputs": [],
   "source": [
    "import pandas as pd\n",
    "\n",
    "# Read the dataset\n",
    "df = pd.read_csv(\"clothing_store_dataset.csv\")\n",
    "\n",
    "# Drop rows with missing Product_ID, Customer_ID, Date_of_Purchase\n",
    "df = df.dropna(subset=[\"Product_ID\", \"Customer_ID\", \"Date_of_Purchase\"])\n",
    "\n",
    "# Define numeric and categorical columns\n",
    "numeric_cols = [\"Customer_Age\", \"Quantity\", \"Total_Purchase_Amount\",\n",
    "                \"Profit_or_Loss\", \"Ratings\", \"Year_of_Purchase\"]\n",
    "\n",
    "categorical_cols = [\"Product_Name\", \"Country\", \"Product_Type\", ]\n",
    "\n",
    "categorical_cols2 = [ \"Customer_Name\", \"Gender\", \n",
    "                    \"Mode_of_Purchase\", \"Month_of_Purchase\"]\n",
    "\n",
    "\n",
    "# Fill numeric columns with median\n",
    "for col in numeric_cols:\n",
    "    df[col] = df[col].fillna(df[col].median())\n",
    "\n",
    "# Fill categorical columns with mode\n",
    "for col in categorical_cols:\n",
    "    df[col] = df[col].fillna('Others')\n",
    "\n",
    "for col in categorical_cols2:\n",
    "    df[col] = df[col].fillna('Unknown')\n",
    "\n",
    "# Convert and standardize numeric types\n",
    "df[\"Customer_ID\"] = df[\"Customer_ID\"].astype(int)\n",
    "df[\"Customer_Age\"] = df[\"Customer_Age\"].astype(int)\n",
    "df[\"Quantity\"] = df[\"Quantity\"].astype(int)\n",
    "df[\"Year_of_Purchase\"] = df[\"Year_of_Purchase\"].astype(int)\n",
    "df[\"Total_Purchase_Amount\"] = df[\"Total_Purchase_Amount\"].astype(float)\n",
    "df[\"Profit_or_Loss\"] = df[\"Profit_or_Loss\"].astype(float)\n",
    "df[\"Ratings\"] = df[\"Ratings\"].astype(float)\n",
    "\n",
    "# Convert date column and format as DD-MM-YYYY\n",
    "df[\"Date_of_Purchase\"] = pd.to_datetime(df[\"Date_of_Purchase\"], errors=\"coerce\")\n",
    "df[\"Date_of_Purchase\"] = df[\"Date_of_Purchase\"].dt.strftime(\"%d-%m-%Y\")\n",
    "\n",
    "# Standardize Gender column\n",
    "df[\"Gender\"] = df[\"Gender\"].str.title().replace({\n",
    "    \"M\": \"Male\", \"F\": \"Female\", \"O\": \"Other\"\n",
    "})\n",
    "\n",
    "# Standardize Mode_of_Purchase column\n",
    "df[\"Mode_of_Purchase\"] = df[\"Mode_of_Purchase\"].str.title().replace({\n",
    "    \"In person\": \"In-Person\", \"Inperson\": \"In-Person\", \"Offline\": \"In-Person\"\n",
    "})\n",
    "\n",
    "# Remove duplicate rows\n",
    "df = df.drop_duplicates()\n",
    "\n",
    "# Reset index\n",
    "df = df.reset_index(drop=True)\n",
    "\n"
   ]
  },
  {
   "cell_type": "code",
   "execution_count": 6,
   "id": "24a0865d-505f-486a-be5a-cd5689dec185",
   "metadata": {},
   "outputs": [
    {
     "data": {
      "text/plain": [
       "Product_ID               0\n",
       "Product_Name             0\n",
       "Customer_ID              0\n",
       "Customer_Name            0\n",
       "Customer_Age             0\n",
       "Gender                   0\n",
       "Country                  0\n",
       "Quantity                 0\n",
       "Total_Purchase_Amount    0\n",
       "Profit_or_Loss           0\n",
       "Date_of_Purchase         0\n",
       "Mode_of_Purchase         0\n",
       "Ratings                  0\n",
       "Product_Type             0\n",
       "Month_of_Purchase        0\n",
       "Year_of_Purchase         0\n",
       "dtype: int64"
      ]
     },
     "execution_count": 6,
     "metadata": {},
     "output_type": "execute_result"
    }
   ],
   "source": [
    "df.isnull().sum()"
   ]
  },
  {
   "cell_type": "code",
   "execution_count": 7,
   "id": "cd2f0fa5-b275-4a86-8d6d-6828e69d068a",
   "metadata": {},
   "outputs": [
    {
     "name": "stdout",
     "output_type": "stream",
     "text": [
      "Cleaned and standardized dataset saved as clothing_store_dataset_clean.csv\n"
     ]
    }
   ],
   "source": [
    "# Save cleaned and standardized dataset\n",
    "df.to_csv(\"clothing_store_dataset_clean.csv\", index=False)\n",
    "print(\"Cleaned and standardized dataset saved as clothing_store_dataset_clean.csv\")\n"
   ]
  },
  {
   "cell_type": "code",
   "execution_count": null,
   "id": "f370f2da-9c38-4ea7-84a9-1e9760be2490",
   "metadata": {},
   "outputs": [],
   "source": []
  }
 ],
 "metadata": {
  "kernelspec": {
   "display_name": "Python 3 (ipykernel)",
   "language": "python",
   "name": "python3"
  },
  "language_info": {
   "codemirror_mode": {
    "name": "ipython",
    "version": 3
   },
   "file_extension": ".py",
   "mimetype": "text/x-python",
   "name": "python",
   "nbconvert_exporter": "python",
   "pygments_lexer": "ipython3",
   "version": "3.13.1"
  }
 },
 "nbformat": 4,
 "nbformat_minor": 5
}
